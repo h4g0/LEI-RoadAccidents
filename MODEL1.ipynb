{
  "nbformat": 4,
  "nbformat_minor": 0,
  "metadata": {
    "kernelspec": {
      "display_name": "Python 3",
      "language": "python",
      "name": "python3"
    },
    "language_info": {
      "codemirror_mode": {
        "name": "ipython",
        "version": 3
      },
      "file_extension": ".py",
      "mimetype": "text/x-python",
      "name": "python",
      "nbconvert_exporter": "python",
      "pygments_lexer": "ipython3",
      "version": "3.7.4"
    },
    "colab": {
      "name": "MODEL1.ipynb",
      "provenance": [],
      "collapsed_sections": []
    }
  },
  "cells": [
    {
      "cell_type": "markdown",
      "metadata": {
        "id": "7lr956DxGeWF",
        "colab_type": "text"
      },
      "source": [
        "## Convert the Gps images into a usable format"
      ]
    },
    {
      "cell_type": "code",
      "metadata": {
        "id": "lJKPupgtGeWJ",
        "colab_type": "code",
        "colab": {}
      },
      "source": [
        "import numpy as np\n",
        "import matplotlib.pyplot as plt\n",
        "import os\n",
        "import cv2"
      ],
      "execution_count": 0,
      "outputs": []
    },
    {
      "cell_type": "code",
      "metadata": {
        "id": "kL1rQhMNGmJk",
        "colab_type": "code",
        "outputId": "3da1d92a-2463-47a3-9054-eca5771d539e",
        "colab": {
          "base_uri": "https://localhost:8080/",
          "height": 122
        }
      },
      "source": [
        "from google.colab import drive\n",
        "drive.mount('/content/drive')"
      ],
      "execution_count": 2,
      "outputs": [
        {
          "output_type": "stream",
          "text": [
            "Go to this URL in a browser: https://accounts.google.com/o/oauth2/auth?client_id=947318989803-6bn6qk8qdgf4n4g3pfee6491hc0brc4i.apps.googleusercontent.com&redirect_uri=urn%3aietf%3awg%3aoauth%3a2.0%3aoob&response_type=code&scope=email%20https%3a%2f%2fwww.googleapis.com%2fauth%2fdocs.test%20https%3a%2f%2fwww.googleapis.com%2fauth%2fdrive%20https%3a%2f%2fwww.googleapis.com%2fauth%2fdrive.photos.readonly%20https%3a%2f%2fwww.googleapis.com%2fauth%2fpeopleapi.readonly\n",
            "\n",
            "Enter your authorization code:\n",
            "··········\n",
            "Mounted at /content/drive\n"
          ],
          "name": "stdout"
        }
      ]
    },
    {
      "cell_type": "code",
      "metadata": {
        "id": "wk__h1PeGeWO",
        "colab_type": "code",
        "outputId": "ba68a5ed-f54a-4461-ba91-b13a788a9fda",
        "colab": {
          "base_uri": "https://localhost:8080/",
          "height": 180
        }
      },
      "source": [
        "plt.imshow(img_array,cmap=\"gray\")\n",
        "plt.show()"
      ],
      "execution_count": 0,
      "outputs": [
        {
          "output_type": "error",
          "ename": "NameError",
          "evalue": "ignored",
          "traceback": [
            "\u001b[0;31m---------------------------------------------------------------------------\u001b[0m",
            "\u001b[0;31mNameError\u001b[0m                                 Traceback (most recent call last)",
            "\u001b[0;32m<ipython-input-5-ae73ac676475>\u001b[0m in \u001b[0;36m<module>\u001b[0;34m()\u001b[0m\n\u001b[0;32m----> 1\u001b[0;31m \u001b[0mplt\u001b[0m\u001b[0;34m.\u001b[0m\u001b[0mimshow\u001b[0m\u001b[0;34m(\u001b[0m\u001b[0mimg_array\u001b[0m\u001b[0;34m,\u001b[0m\u001b[0mcmap\u001b[0m\u001b[0;34m=\u001b[0m\u001b[0;34m\"gray\"\u001b[0m\u001b[0;34m)\u001b[0m\u001b[0;34m\u001b[0m\u001b[0;34m\u001b[0m\u001b[0m\n\u001b[0m\u001b[1;32m      2\u001b[0m \u001b[0mplt\u001b[0m\u001b[0;34m.\u001b[0m\u001b[0mshow\u001b[0m\u001b[0;34m(\u001b[0m\u001b[0;34m)\u001b[0m\u001b[0;34m\u001b[0m\u001b[0;34m\u001b[0m\u001b[0m\n",
            "\u001b[0;31mNameError\u001b[0m: name 'img_array' is not defined"
          ]
        }
      ]
    },
    {
      "cell_type": "code",
      "metadata": {
        "id": "i70PlevWGeWW",
        "colab_type": "code",
        "outputId": "144a6f37-1893-4a39-eccf-5e52e73b265d",
        "colab": {}
      },
      "source": [
        "new_img_array = cv2.resize(img_array, (IMG_SIZE,IMG_SIZE))\n",
        "plt.imshow(new_img_array, cmap = 'gray')\n",
        "plt.show()"
      ],
      "execution_count": 0,
      "outputs": [
        {
          "output_type": "display_data",
          "data": {
            "image/png": "[encoded data removed]",
            "text/plain": [
              "<Figure size 432x288 with 1 Axes>"
            ]
          },
          "metadata": {
            "tags": [],
            "needs_background": "light"
          }
        }
      ]
    },
    {
      "cell_type": "markdown",
      "metadata": {
        "id": "iJX7Z8baGeWb",
        "colab_type": "text"
      },
      "source": [
        "## Create the training data"
      ]
    },
    {
      "cell_type": "code",
      "metadata": {
        "id": "y7Ijg60XGeWc",
        "colab_type": "code",
        "colab": {}
      },
      "source": [
        "DATADIR = \"images\"\n",
        "CATEGORIES=[\"safe\",\"danger\"]\n",
        "\n",
        "training_data = []\n",
        "\n",
        "IMG_SIZE = 64\n",
        "\n",
        "def create_training_data():\n",
        "    for category in CATEGORIES:\n",
        "        path = os.path.join(DATADIR,category)\n",
        "        class_num = CATEGORIES.index(category)\n",
        "        for img in os.listdir(path):\n",
        "            img_array = cv2.imread(os.path.join(path,img),cv2.IMREAD_GRAYSCALE)\n",
        "            new_arary = cv2.resize(img_array , (IMG_SIZE, IMG_SIZE))\n",
        "            training_data.append([new_arary, class_num])\n",
        "           \n",
        "        \n",
        "create_training_data()\n",
        "    \n"
      ],
      "execution_count": 0,
      "outputs": []
    },
    {
      "cell_type": "code",
      "metadata": {
        "id": "Nz3RDvqVGeWg",
        "colab_type": "code",
        "outputId": "51271869-4fa6-4b25-df67-7ce3a000268d",
        "colab": {}
      },
      "source": [
        "print(len(training_data))"
      ],
      "execution_count": 0,
      "outputs": [
        {
          "output_type": "stream",
          "text": [
            "11090\n"
          ],
          "name": "stdout"
        }
      ]
    },
    {
      "cell_type": "code",
      "metadata": {
        "id": "GqKPd4BNGeWl",
        "colab_type": "code",
        "colab": {}
      },
      "source": [
        "import random\n",
        "\n",
        "random.shuffle(training_data)"
      ],
      "execution_count": 0,
      "outputs": []
    },
    {
      "cell_type": "code",
      "metadata": {
        "id": "UIe5YdzFGeWq",
        "colab_type": "code",
        "colab": {}
      },
      "source": [
        "X = []\n",
        "y = []"
      ],
      "execution_count": 0,
      "outputs": []
    },
    {
      "cell_type": "code",
      "metadata": {
        "scrolled": true,
        "id": "qjCCtmhcGeWx",
        "colab_type": "code",
        "colab": {}
      },
      "source": [
        "for features, label in training_data:\n",
        "    X.append(features)\n",
        "    y.append(label)\n",
        "    \n",
        "X = np.array(X).reshape(-1, IMG_SIZE, IMG_SIZE,1)\n",
        "y = np.asarray(y)"
      ],
      "execution_count": 0,
      "outputs": []
    },
    {
      "cell_type": "markdown",
      "metadata": {
        "id": "cVySv5U_GeW1",
        "colab_type": "text"
      },
      "source": [
        "## Save the training data for posterior use"
      ]
    },
    {
      "cell_type": "code",
      "metadata": {
        "id": "xkgU54tZGeW2",
        "colab_type": "code",
        "colab": {}
      },
      "source": [
        "import pickle\n",
        "\n",
        "pickle_out = open(\"X.pickle\" ,\"wb\")\n",
        "pickle.dump(X, pickle_out)\n",
        "pickle_out.close()\n",
        "\n",
        "\n",
        "pickle_out = open(\"y.pickle\" ,\"wb\")\n",
        "pickle.dump(y, pickle_out)\n",
        "pickle_out.close()\n",
        "\n"
      ],
      "execution_count": 0,
      "outputs": []
    },
    {
      "cell_type": "markdown",
      "metadata": {
        "id": "UtDtv-TdGeW6",
        "colab_type": "text"
      },
      "source": [
        "## Create the model"
      ]
    },
    {
      "cell_type": "code",
      "metadata": {
        "id": "o7KPSHuOGeW7",
        "colab_type": "code",
        "colab": {}
      },
      "source": [
        "import tensorflow as tf\n",
        "from tensorflow.keras.models import Sequential\n",
        "from tensorflow.keras.layers import Dense, Dropout, Activation, Flatten ,Conv2D, MaxPooling2D\n",
        "from  keras.applications.vgg16 import VGG16\n",
        "import pickle\n",
        "\n",
        "\n",
        "X = pickle.load(open(\"drive/My Drive/Colab Notebooks/X.pickle\",\"rb\"))\n",
        "y = pickle.load(open(\"drive/My Drive/Colab Notebooks/y.pickle\",\"rb\"))\n",
        "\n",
        "X = X/255.0\n"
      ],
      "execution_count": 0,
      "outputs": []
    },
    {
      "cell_type": "code",
      "metadata": {
        "id": "rzG6YaLpGeW_",
        "colab_type": "code",
        "colab": {}
      },
      "source": [
        "def train_model(X,y):\n",
        "    model = Sequential()\n",
        "    model.add(Conv2D(64, (3,3), input_shape = X.shape[1:],activation='relu'))\n",
        "    model.add(MaxPooling2D(pool_size=(3,3)))\n",
        "\n",
        "    model.add(Conv2D(64,strides=2, kernel_size=(3,3),activation='relu'))\n",
        "  \n",
        "    model.add(Dropout(0.5))\n",
        "  \n",
        "    model.add(Conv2D(64,strides=2, kernel_size=(3,3),activation='relu'))\n",
        "\n",
        "    model.add(Dropout(0.5))\n",
        "\n",
        "    model.add(Conv2D(64,strides=2, kernel_size=(3,3),activation='relu'))\n",
        "\n",
        "    model.add(Flatten())\n",
        "    model.add(Dense(64))\n",
        "\n",
        "    model.add(Dense(1))\n",
        "    model.add(Activation(\"sigmoid\"))\n",
        "\n",
        "    model.compile(loss=\"binary_crossentropy\",\n",
        "                optimizer=\"adam\",\n",
        "                metrics=['accuracy'],weighted_metrics=['accuracy'])\n",
        "\n",
        "    model.fit(X, y, batch_size=8,epochs = 20,validation_split=0.3)\n",
        "    \n",
        "    return model"
      ],
      "execution_count": 0,
      "outputs": []
    },
    {
      "cell_type": "code",
      "metadata": {
        "id": "ilOQCNeSiwXS",
        "colab_type": "code",
        "colab": {}
      },
      "source": [
        "def train_model_with_transfer_learning(X,y):\n",
        "    model = Sequential()\n",
        "    model.add(Conv2D(64, (3,3), input_shape = X.shape[1:],activation='relu'))\n",
        "    model.add(MaxPooling2D(pool_size=(3,3)))\n",
        "\n",
        "    model.add(Conv2D(64,strides=2, kernel_size=(3,3),activation='relu'))\n",
        "  \n",
        "    model.add(Dropout(0.5))\n",
        "  \n",
        "    model.add(Conv2D(64,strides=2, kernel_size=(3,3),activation='relu'))\n",
        "\n",
        "    model.add(Dropout(0.5))\n",
        "\n",
        "    model.add(Conv2D(64,strides=2, kernel_size=(3,3),activation='relu'))\n",
        "\n",
        "    model.add(Flatten())\n",
        "    model.add(Dense(64))\n",
        "\n",
        "    model.add(Dense(1))\n",
        "    model.add(Activation(\"sigmoid\"))\n",
        "\n",
        "    model.compile(loss=\"binary_crossentropy\",\n",
        "                optimizer=\"adam\",\n",
        "                metrics=['accuracy'],weighted_metrics=['accuracy'])\n",
        "\n",
        "    model.fit(X, y, batch_size=8,epochs = 20,validation_split=0.3)\n",
        "    \n",
        "    return model"
      ],
      "execution_count": 0,
      "outputs": []
    },
    {
      "cell_type": "code",
      "metadata": {
        "id": "Ityxlzo6K_2E",
        "colab_type": "code",
        "colab": {}
      },
      "source": [
        "from sklearn.model_selection import train_test_split\n",
        "\n",
        "X_train, X_test, y_train, y_test = train_test_split(X, y, test_size=0.3)"
      ],
      "execution_count": 0,
      "outputs": []
    },
    {
      "cell_type": "code",
      "metadata": {
        "id": "vZLLy8AcKohi",
        "colab_type": "code",
        "outputId": "1ac0a361-4b77-4f5d-cec2-81e085b62f30",
        "colab": {
          "base_uri": "https://localhost:8080/",
          "height": 734
        }
      },
      "source": [
        "model = train_model(X_train,y_train)"
      ],
      "execution_count": 0,
      "outputs": [
        {
          "output_type": "stream",
          "text": [
            "Train on 5434 samples, validate on 2329 samples\n",
            "Epoch 1/20\n",
            "5434/5434 [==============================] - 22s 4ms/sample - loss: 0.6552 - acc: 0.6205 - weighted_acc: 0.6205 - val_loss: 0.5834 - val_acc: 0.7226 - val_weighted_acc: 0.7226\n",
            "Epoch 2/20\n",
            "5434/5434 [==============================] - 22s 4ms/sample - loss: 0.6011 - acc: 0.6910 - weighted_acc: 0.6910 - val_loss: 0.5700 - val_acc: 0.7256 - val_weighted_acc: 0.7256\n",
            "Epoch 3/20\n",
            "5434/5434 [==============================] - 21s 4ms/sample - loss: 0.5808 - acc: 0.7138 - weighted_acc: 0.7138 - val_loss: 0.5487 - val_acc: 0.7304 - val_weighted_acc: 0.7304\n",
            "Epoch 4/20\n",
            "5434/5434 [==============================] - 21s 4ms/sample - loss: 0.5804 - acc: 0.7120 - weighted_acc: 0.7120 - val_loss: 0.5553 - val_acc: 0.7097 - val_weighted_acc: 0.7097\n",
            "Epoch 5/20\n",
            "5434/5434 [==============================] - 21s 4ms/sample - loss: 0.5678 - acc: 0.7197 - weighted_acc: 0.7197 - val_loss: 0.5308 - val_acc: 0.7342 - val_weighted_acc: 0.7342\n",
            "Epoch 6/20\n",
            "5434/5434 [==============================] - 21s 4ms/sample - loss: 0.5618 - acc: 0.7195 - weighted_acc: 0.7195 - val_loss: 0.5347 - val_acc: 0.7385 - val_weighted_acc: 0.7385\n",
            "Epoch 7/20\n",
            "5434/5434 [==============================] - 21s 4ms/sample - loss: 0.5551 - acc: 0.7251 - weighted_acc: 0.7251 - val_loss: 0.5524 - val_acc: 0.7158 - val_weighted_acc: 0.7158\n",
            "Epoch 8/20\n",
            "5434/5434 [==============================] - 21s 4ms/sample - loss: 0.5530 - acc: 0.7223 - weighted_acc: 0.7223 - val_loss: 0.5518 - val_acc: 0.7295 - val_weighted_acc: 0.7295\n",
            "Epoch 9/20\n",
            "5434/5434 [==============================] - 22s 4ms/sample - loss: 0.5509 - acc: 0.7260 - weighted_acc: 0.7260 - val_loss: 0.5447 - val_acc: 0.7312 - val_weighted_acc: 0.7312\n",
            "Epoch 10/20\n",
            "5434/5434 [==============================] - 22s 4ms/sample - loss: 0.5438 - acc: 0.7330 - weighted_acc: 0.7330 - val_loss: 0.5277 - val_acc: 0.7441 - val_weighted_acc: 0.7441\n",
            "Epoch 11/20\n",
            "5434/5434 [==============================] - 22s 4ms/sample - loss: 0.5415 - acc: 0.7322 - weighted_acc: 0.7322 - val_loss: 0.5251 - val_acc: 0.7432 - val_weighted_acc: 0.7432\n",
            "Epoch 12/20\n",
            "5434/5434 [==============================] - 22s 4ms/sample - loss: 0.5407 - acc: 0.7297 - weighted_acc: 0.7297 - val_loss: 0.5442 - val_acc: 0.7381 - val_weighted_acc: 0.7381\n",
            "Epoch 13/20\n",
            "5434/5434 [==============================] - 21s 4ms/sample - loss: 0.5362 - acc: 0.7387 - weighted_acc: 0.7387 - val_loss: 0.5359 - val_acc: 0.7368 - val_weighted_acc: 0.7368\n",
            "Epoch 14/20\n",
            "5434/5434 [==============================] - 21s 4ms/sample - loss: 0.5341 - acc: 0.7376 - weighted_acc: 0.7376 - val_loss: 0.5224 - val_acc: 0.7437 - val_weighted_acc: 0.7437\n",
            "Epoch 15/20\n",
            "5434/5434 [==============================] - 21s 4ms/sample - loss: 0.5372 - acc: 0.7344 - weighted_acc: 0.7344 - val_loss: 0.5265 - val_acc: 0.7419 - val_weighted_acc: 0.7419\n",
            "Epoch 16/20\n",
            "5434/5434 [==============================] - 21s 4ms/sample - loss: 0.5340 - acc: 0.7400 - weighted_acc: 0.7400 - val_loss: 0.5370 - val_acc: 0.7291 - val_weighted_acc: 0.7291\n",
            "Epoch 17/20\n",
            "5434/5434 [==============================] - 21s 4ms/sample - loss: 0.5346 - acc: 0.7403 - weighted_acc: 0.7403 - val_loss: 0.5248 - val_acc: 0.7437 - val_weighted_acc: 0.7437\n",
            "Epoch 18/20\n",
            "5434/5434 [==============================] - 21s 4ms/sample - loss: 0.5242 - acc: 0.7453 - weighted_acc: 0.7453 - val_loss: 0.5290 - val_acc: 0.7432 - val_weighted_acc: 0.7432\n",
            "Epoch 19/20\n",
            "5434/5434 [==============================] - 22s 4ms/sample - loss: 0.5273 - acc: 0.7400 - weighted_acc: 0.7400 - val_loss: 0.5321 - val_acc: 0.7445 - val_weighted_acc: 0.7445\n",
            "Epoch 20/20\n",
            "5434/5434 [==============================] - 21s 4ms/sample - loss: 0.5309 - acc: 0.7411 - weighted_acc: 0.7411 - val_loss: 0.5291 - val_acc: 0.7415 - val_weighted_acc: 0.7415\n"
          ],
          "name": "stdout"
        }
      ]
    },
    {
      "cell_type": "code",
      "metadata": {
        "id": "Mcy8Bg0gOCp7",
        "colab_type": "code",
        "colab": {}
      },
      "source": [
        "y_predict = model.predict(X_test)"
      ],
      "execution_count": 0,
      "outputs": []
    },
    {
      "cell_type": "code",
      "metadata": {
        "id": "4IR9p9FAOwBd",
        "colab_type": "code",
        "colab": {}
      },
      "source": [
        "y_predict = [int(x[0] >= 0.5) for x in y_predict]"
      ],
      "execution_count": 0,
      "outputs": []
    },
    {
      "cell_type": "code",
      "metadata": {
        "id": "n0cTvJAULr2j",
        "colab_type": "code",
        "outputId": "4bb9ff71-a8e3-4726-bee3-18a932d49867",
        "colab": {
          "base_uri": "https://localhost:8080/",
          "height": 51
        }
      },
      "source": [
        "from sklearn.metrics import classification_report,confusion_matrix\n",
        "\n",
        "print(confusion_matrix(y_test,y_predict))"
      ],
      "execution_count": 0,
      "outputs": [
        {
          "output_type": "stream",
          "text": [
            "[[ 848  605]\n",
            " [ 272 1602]]\n"
          ],
          "name": "stdout"
        }
      ]
    },
    {
      "cell_type": "code",
      "metadata": {
        "id": "kaP6v6_2jl_B",
        "colab_type": "code",
        "outputId": "125828ca-0777-49b5-dc9d-c8bb5696778c",
        "colab": {
          "base_uri": "https://localhost:8080/",
          "height": 170
        }
      },
      "source": [
        "print(classification_report(y_test,y_predict))"
      ],
      "execution_count": 0,
      "outputs": [
        {
          "output_type": "stream",
          "text": [
            "              precision    recall  f1-score   support\n",
            "\n",
            "           0       0.76      0.58      0.66      1453\n",
            "           1       0.73      0.85      0.79      1874\n",
            "\n",
            "    accuracy                           0.74      3327\n",
            "   macro avg       0.74      0.72      0.72      3327\n",
            "weighted avg       0.74      0.74      0.73      3327\n",
            "\n"
          ],
          "name": "stdout"
        }
      ]
    },
    {
      "cell_type": "code",
      "metadata": {
        "id": "yDaV5jLFGeXE",
        "colab_type": "code",
        "outputId": "e8f69ea6-95a2-4555-c275-6e0f8491f323",
        "colab": {}
      },
      "source": [
        "tf.VERSION"
      ],
      "execution_count": 0,
      "outputs": [
        {
          "output_type": "execute_result",
          "data": {
            "text/plain": [
              "'1.14.0'"
            ]
          },
          "metadata": {
            "tags": []
          },
          "execution_count": 14
        }
      ]
    },
    {
      "cell_type": "code",
      "metadata": {
        "id": "q3-9x-WFGeXI",
        "colab_type": "code",
        "outputId": "9ee6bb73-6134-4f85-d2b4-b7ef07ec2d97",
        "colab": {}
      },
      "source": [
        "type(y)"
      ],
      "execution_count": 0,
      "outputs": [
        {
          "output_type": "execute_result",
          "data": {
            "text/plain": [
              "list"
            ]
          },
          "metadata": {
            "tags": []
          },
          "execution_count": 16
        }
      ]
    },
    {
      "cell_type": "code",
      "metadata": {
        "id": "Fu5Y1vMIGeXR",
        "colab_type": "code",
        "colab": {}
      },
      "source": [
        ""
      ],
      "execution_count": 0,
      "outputs": []
    }
  ]
}