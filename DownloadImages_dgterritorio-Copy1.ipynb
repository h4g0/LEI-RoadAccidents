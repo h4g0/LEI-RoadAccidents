{
 "cells": [
  {
   "cell_type": "markdown",
   "metadata": {},
   "source": [
    "## Download sattelite images using the Web Map Service from"
   ]
  },
  {
   "cell_type": "code",
   "execution_count": 2,
   "metadata": {},
   "outputs": [],
   "source": [
    "from owslib.wms import WebMapService"
   ]
  },
  {
   "cell_type": "code",
   "execution_count": 4,
   "metadata": {},
   "outputs": [
    {
     "ename": "AttributeError",
     "evalue": "'NoneType' object has no attribute 'find'",
     "output_type": "error",
     "traceback": [
      "\u001b[1;31m---------------------------------------------------------------------------\u001b[0m",
      "\u001b[1;31mAttributeError\u001b[0m                            Traceback (most recent call last)",
      "\u001b[1;32m<ipython-input-4-56a97d9cfbdf>\u001b[0m in \u001b[0;36m<module>\u001b[1;34m\u001b[0m\n\u001b[1;32m----> 1\u001b[1;33m \u001b[0mwms\u001b[0m \u001b[1;33m=\u001b[0m \u001b[0mWebMapService\u001b[0m\u001b[1;33m(\u001b[0m\u001b[1;34m\"https://api.maptiler.com/tiles/satellite/WMTSCapabilities.xml?key=0sMv6yDq3dL9yCUIJj3N\"\u001b[0m\u001b[1;33m)\u001b[0m\u001b[1;33m\u001b[0m\u001b[1;33m\u001b[0m\u001b[0m\n\u001b[0m",
      "\u001b[1;32m~\\Anaconda3\\lib\\site-packages\\owslib\\wms.py\u001b[0m in \u001b[0;36mWebMapService\u001b[1;34m(url, version, xml, username, password, parse_remote_metadata, timeout, headers, auth)\u001b[0m\n\u001b[0;32m     50\u001b[0m         return wms111.WebMapService_1_1_1(\n\u001b[0;32m     51\u001b[0m             \u001b[0mclean_url\u001b[0m\u001b[1;33m,\u001b[0m \u001b[0mversion\u001b[0m\u001b[1;33m=\u001b[0m\u001b[0mversion\u001b[0m\u001b[1;33m,\u001b[0m \u001b[0mxml\u001b[0m\u001b[1;33m=\u001b[0m\u001b[0mxml\u001b[0m\u001b[1;33m,\u001b[0m \u001b[0mparse_remote_metadata\u001b[0m\u001b[1;33m=\u001b[0m\u001b[0mparse_remote_metadata\u001b[0m\u001b[1;33m,\u001b[0m\u001b[1;33m\u001b[0m\u001b[1;33m\u001b[0m\u001b[0m\n\u001b[1;32m---> 52\u001b[1;33m             timeout=timeout, headers=headers, auth=auth)\n\u001b[0m\u001b[0;32m     53\u001b[0m     \u001b[1;32melif\u001b[0m \u001b[0mversion\u001b[0m \u001b[1;32min\u001b[0m \u001b[1;33m[\u001b[0m\u001b[1;34m'1.3.0'\u001b[0m\u001b[1;33m]\u001b[0m\u001b[1;33m:\u001b[0m\u001b[1;33m\u001b[0m\u001b[1;33m\u001b[0m\u001b[0m\n\u001b[0;32m     54\u001b[0m         return wms130.WebMapService_1_3_0(\n",
      "\u001b[1;32m~\\Anaconda3\\lib\\site-packages\\owslib\\map\\wms111.py\u001b[0m in \u001b[0;36m__init__\u001b[1;34m(self, url, version, xml, username, password, parse_remote_metadata, headers, timeout, auth)\u001b[0m\n\u001b[0;32m     85\u001b[0m \u001b[1;33m\u001b[0m\u001b[0m\n\u001b[0;32m     86\u001b[0m         \u001b[1;31m# build metadata objects\u001b[0m\u001b[1;33m\u001b[0m\u001b[1;33m\u001b[0m\u001b[1;33m\u001b[0m\u001b[0m\n\u001b[1;32m---> 87\u001b[1;33m         \u001b[0mself\u001b[0m\u001b[1;33m.\u001b[0m\u001b[0m_buildMetadata\u001b[0m\u001b[1;33m(\u001b[0m\u001b[0mparse_remote_metadata\u001b[0m\u001b[1;33m)\u001b[0m\u001b[1;33m\u001b[0m\u001b[1;33m\u001b[0m\u001b[0m\n\u001b[0m\u001b[0;32m     88\u001b[0m \u001b[1;33m\u001b[0m\u001b[0m\n\u001b[0;32m     89\u001b[0m     \u001b[1;32mdef\u001b[0m \u001b[0m_buildMetadata\u001b[0m\u001b[1;33m(\u001b[0m\u001b[0mself\u001b[0m\u001b[1;33m,\u001b[0m \u001b[0mparse_remote_metadata\u001b[0m\u001b[1;33m=\u001b[0m\u001b[1;32mFalse\u001b[0m\u001b[1;33m)\u001b[0m\u001b[1;33m:\u001b[0m\u001b[1;33m\u001b[0m\u001b[1;33m\u001b[0m\u001b[0m\n",
      "\u001b[1;32m~\\Anaconda3\\lib\\site-packages\\owslib\\map\\wms111.py\u001b[0m in \u001b[0;36m_buildMetadata\u001b[1;34m(self, parse_remote_metadata)\u001b[0m\n\u001b[0;32m     94\u001b[0m         \u001b[1;31m# serviceIdentification metadata\u001b[0m\u001b[1;33m\u001b[0m\u001b[1;33m\u001b[0m\u001b[1;33m\u001b[0m\u001b[0m\n\u001b[0;32m     95\u001b[0m         \u001b[0mserviceelem\u001b[0m \u001b[1;33m=\u001b[0m \u001b[0mself\u001b[0m\u001b[1;33m.\u001b[0m\u001b[0m_capabilities\u001b[0m\u001b[1;33m.\u001b[0m\u001b[0mfind\u001b[0m\u001b[1;33m(\u001b[0m\u001b[1;34m'Service'\u001b[0m\u001b[1;33m)\u001b[0m\u001b[1;33m\u001b[0m\u001b[1;33m\u001b[0m\u001b[0m\n\u001b[1;32m---> 96\u001b[1;33m         \u001b[0mself\u001b[0m\u001b[1;33m.\u001b[0m\u001b[0midentification\u001b[0m \u001b[1;33m=\u001b[0m \u001b[0mServiceIdentification\u001b[0m\u001b[1;33m(\u001b[0m\u001b[0mserviceelem\u001b[0m\u001b[1;33m,\u001b[0m \u001b[0mself\u001b[0m\u001b[1;33m.\u001b[0m\u001b[0mversion\u001b[0m\u001b[1;33m)\u001b[0m\u001b[1;33m\u001b[0m\u001b[1;33m\u001b[0m\u001b[0m\n\u001b[0m\u001b[0;32m     97\u001b[0m \u001b[1;33m\u001b[0m\u001b[0m\n\u001b[0;32m     98\u001b[0m         \u001b[1;31m# serviceProvider metadata\u001b[0m\u001b[1;33m\u001b[0m\u001b[1;33m\u001b[0m\u001b[1;33m\u001b[0m\u001b[0m\n",
      "\u001b[1;32m~\\Anaconda3\\lib\\site-packages\\owslib\\map\\wms111.py\u001b[0m in \u001b[0;36m__init__\u001b[1;34m(self, infoset, version)\u001b[0m\n\u001b[0;32m    356\u001b[0m     \u001b[1;32mdef\u001b[0m \u001b[0m__init__\u001b[0m\u001b[1;33m(\u001b[0m\u001b[0mself\u001b[0m\u001b[1;33m,\u001b[0m \u001b[0minfoset\u001b[0m\u001b[1;33m,\u001b[0m \u001b[0mversion\u001b[0m\u001b[1;33m)\u001b[0m\u001b[1;33m:\u001b[0m\u001b[1;33m\u001b[0m\u001b[1;33m\u001b[0m\u001b[0m\n\u001b[0;32m    357\u001b[0m         \u001b[0mself\u001b[0m\u001b[1;33m.\u001b[0m\u001b[0m_root\u001b[0m \u001b[1;33m=\u001b[0m \u001b[0minfoset\u001b[0m\u001b[1;33m\u001b[0m\u001b[1;33m\u001b[0m\u001b[0m\n\u001b[1;32m--> 358\u001b[1;33m         \u001b[0mself\u001b[0m\u001b[1;33m.\u001b[0m\u001b[0mtype\u001b[0m \u001b[1;33m=\u001b[0m \u001b[0mtestXMLValue\u001b[0m\u001b[1;33m(\u001b[0m\u001b[0mself\u001b[0m\u001b[1;33m.\u001b[0m\u001b[0m_root\u001b[0m\u001b[1;33m.\u001b[0m\u001b[0mfind\u001b[0m\u001b[1;33m(\u001b[0m\u001b[1;34m'Name'\u001b[0m\u001b[1;33m)\u001b[0m\u001b[1;33m)\u001b[0m\u001b[1;33m\u001b[0m\u001b[1;33m\u001b[0m\u001b[0m\n\u001b[0m\u001b[0;32m    359\u001b[0m         \u001b[0mself\u001b[0m\u001b[1;33m.\u001b[0m\u001b[0mversion\u001b[0m \u001b[1;33m=\u001b[0m \u001b[0mversion\u001b[0m\u001b[1;33m\u001b[0m\u001b[1;33m\u001b[0m\u001b[0m\n\u001b[0;32m    360\u001b[0m         \u001b[0mself\u001b[0m\u001b[1;33m.\u001b[0m\u001b[0mtitle\u001b[0m \u001b[1;33m=\u001b[0m \u001b[0mtestXMLValue\u001b[0m\u001b[1;33m(\u001b[0m\u001b[0mself\u001b[0m\u001b[1;33m.\u001b[0m\u001b[0m_root\u001b[0m\u001b[1;33m.\u001b[0m\u001b[0mfind\u001b[0m\u001b[1;33m(\u001b[0m\u001b[1;34m'Title'\u001b[0m\u001b[1;33m)\u001b[0m\u001b[1;33m)\u001b[0m\u001b[1;33m\u001b[0m\u001b[1;33m\u001b[0m\u001b[0m\n",
      "\u001b[1;31mAttributeError\u001b[0m: 'NoneType' object has no attribute 'find'"
     ]
    }
   ],
   "source": [
    "wms = WebMapService(\"https://api.maptiler.com/tiles/satellite/WMTSCapabilities.xml?key=0sMv6yDq3dL9yCUIJj3N\")"
   ]
  },
  {
   "cell_type": "code",
   "execution_count": 3,
   "metadata": {},
   "outputs": [
    {
     "data": {
      "text/plain": [
       "'OGC:WMS'"
      ]
     },
     "execution_count": 3,
     "metadata": {},
     "output_type": "execute_result"
    }
   ],
   "source": [
    "wms.identification.type"
   ]
  },
  {
   "cell_type": "code",
   "execution_count": 4,
   "metadata": {},
   "outputs": [
    {
     "data": {
      "text/plain": [
       "['IPSentinel',\n",
       " 'S2PT10m',\n",
       " '2016-abr-mai-IRG',\n",
       " '2016-abr-mai-RGB',\n",
       " '2016-set-IRG',\n",
       " '2016-set-RGB',\n",
       " '2017-jan-abr-IRG',\n",
       " '2017-jan-abr-RGB',\n",
       " '2017-jul-IRG',\n",
       " '2017-jul-RGB',\n",
       " '2018-jan-IRG',\n",
       " '2018-jan-RGB',\n",
       " '2018-mar-abr-IRG',\n",
       " '2018-mar-abr-RGB',\n",
       " '2018-jul-ago-IRG',\n",
       " '2018-jul-ago-RGB',\n",
       " '2018-dez-2019-jan-IRG',\n",
       " '2018-dez-2019-jan-RGB',\n",
       " '2019-mar-abr-IRG',\n",
       " '2019-mar-abr-RGB']"
      ]
     },
     "execution_count": 4,
     "metadata": {},
     "output_type": "execute_result"
    }
   ],
   "source": [
    "list(wms.contents)"
   ]
  },
  {
   "cell_type": "code",
   "execution_count": 5,
   "metadata": {},
   "outputs": [
    {
     "data": {
      "text/plain": [
       "'2019-mar-abr-RGB'"
      ]
     },
     "execution_count": 5,
     "metadata": {},
     "output_type": "execute_result"
    }
   ],
   "source": [
    "wms['2019-mar-abr-RGB'].title"
   ]
  },
  {
   "cell_type": "code",
   "execution_count": 24,
   "metadata": {},
   "outputs": [
    {
     "data": {
      "text/plain": [
       "(-170000.0, -320000.0, 200000.0, 290000.0, 'EPSG:3763')"
      ]
     },
     "execution_count": 24,
     "metadata": {},
     "output_type": "execute_result"
    }
   ],
   "source": [
    "boxlong1,boxlat1,boxlong2,boxlat2,format = wms['2019-mar-abr-RGB'].boundingBox\n",
    "boxlong1,boxlat1,boxlong2,boxlat2,format"
   ]
  },
  {
   "cell_type": "code",
   "execution_count": 7,
   "metadata": {},
   "outputs": [
    {
     "data": {
      "text/plain": [
       "(-10.1934, 36.7643, -5.70954, 42.2796)"
      ]
     },
     "execution_count": 7,
     "metadata": {},
     "output_type": "execute_result"
    }
   ],
   "source": [
    "reallong1,reallat1,reallong2,reallat2 = wms['2019-mar-abr-RGB'].boundingBoxWGS84\n",
    "reallong1,reallat1,reallong2,reallat2"
   ]
  },
  {
   "cell_type": "code",
   "execution_count": 21,
   "metadata": {},
   "outputs": [
    {
     "data": {
      "text/plain": [
       "['image/png',\n",
       " 'image/jpeg',\n",
       " 'image/png; mode=8bit',\n",
       " 'application/x-pdf',\n",
       " 'image/svg+xml',\n",
       " 'image/tiff',\n",
       " 'application/vnd.google-earth.kml+xml',\n",
       " 'application/vnd.google-earth.kmz']"
      ]
     },
     "execution_count": 21,
     "metadata": {},
     "output_type": "execute_result"
    }
   ],
   "source": [
    "wms.getOperationByName('GetMap').formatOptions"
   ]
  },
  {
   "cell_type": "code",
   "execution_count": 22,
   "metadata": {},
   "outputs": [
    {
     "data": {
      "text/plain": [
       "['EPSG:4258', 'EPSG:3763', 'EPSG:4326', 'EPSG:900913', 'EPSG:3857']"
      ]
     },
     "execution_count": 22,
     "metadata": {},
     "output_type": "execute_result"
    }
   ],
   "source": [
    "wms['2019-mar-abr-RGB'].crsOptions"
   ]
  },
  {
   "cell_type": "code",
   "execution_count": 23,
   "metadata": {},
   "outputs": [
    {
     "data": {
      "text/plain": [
       "{'default': {'title': 'default',\n",
       "  'legend': 'http://ows.dgterritorio.pt/wss/service/IPSentinel2-wms/guest?language=por&version=1.1.1&service=WMS&request=GetLegendGraphic&layer=S2PT10m&format=image/png&STYLE=default'}}"
      ]
     },
     "execution_count": 23,
     "metadata": {},
     "output_type": "execute_result"
    }
   ],
   "source": [
    "wms['2019-mar-abr-RGB'].styles"
   ]
  },
  {
   "cell_type": "code",
   "execution_count": 27,
   "metadata": {},
   "outputs": [],
   "source": [
    "def download_image(long,lat,square_size):\n",
    "    print((boxlong2 - boxlong1) / (reallong2 - reallong1))\n",
    "    print((boxlat2 - boxlat1) / (reallat2 - reallat1))\n",
    "    mapx = (long - reallong1) * (boxlong2 - boxlong1) / (reallong2 - reallong1) + boxlong1\n",
    "    mapy = (lat - reallat1)  * (boxlat2 - boxlat1) / (reallat2 - reallat1) + boxlat1\n",
    "    print(mapx)\n",
    "    print(mapy)\n",
    "    img = wms.getmap( layers=['2019-mar-abr-RGB'],\n",
    "                    srs='EPSG:3763',\n",
    "                     bbox=(mapx - square_size,mapy - square_size ,mapx + square_size,mapy + square_size),\n",
    "                    size=(500,500),\n",
    "                format='image/jpeg',\n",
    "                Transparent=True)\n",
    "\n",
    "    out = open(\"wmsimage.jpg\",'wb')\n",
    "    out.write(img.read())\n",
    "    out.close()"
   ]
  },
  {
   "cell_type": "code",
   "execution_count": 28,
   "metadata": {},
   "outputs": [
    {
     "name": "stdout",
     "output_type": "stream",
     "text": [
      "82518.18745455923\n",
      "110601.41787391431\n",
      "-24198.614586539334\n",
      "208796.43899697193\n"
     ]
    }
   ],
   "source": [
    "download_image(-8.4265,41.5454,1000)"
   ]
  },
  {
   "cell_type": "code",
   "execution_count": null,
   "metadata": {},
   "outputs": [],
   "source": []
  }
 ],
 "metadata": {
  "kernelspec": {
   "display_name": "Python 3",
   "language": "python",
   "name": "python3"
  },
  "language_info": {
   "codemirror_mode": {
    "name": "ipython",
    "version": 3
   },
   "file_extension": ".py",
   "mimetype": "text/x-python",
   "name": "python",
   "nbconvert_exporter": "python",
   "pygments_lexer": "ipython3",
   "version": "3.7.4"
  }
 },
 "nbformat": 4,
 "nbformat_minor": 2
}
